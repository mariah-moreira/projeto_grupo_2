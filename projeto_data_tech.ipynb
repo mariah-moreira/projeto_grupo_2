{
 "cells": [
  {
   "cell_type": "code",
   "execution_count": null,
   "metadata": {},
   "outputs": [],
   "source": [
    "#teste "
   ]
  },
  {
   "cell_type": "markdown",
   "metadata": {},
   "source": [
    "# Funções Principais e Leitura da Base"
   ]
  },
  {
   "cell_type": "code",
   "execution_count": null,
   "metadata": {},
   "outputs": [],
   "source": [
    "bd_data = '/content/drive/MyDrive/projetodados/State_of_data_2022.csv'\n",
    "valor_preenchimento = 0  # Substitua pelo valor que faça sentido para dados\n",
    "\n",
    "dados = pd.read_csv(bd_data)\n",
    "#dados = np.genfromtxt(bd_data, delimiter=',', filling_values=valor_preenchimento,skip_header=1, dtype=float, encoding='utf-8')\n",
    "dados = dados.drop(dados.columns[0], axis=1) #retirei a coluna ID\n",
    "\n",
    "# Lista de novos nomes de colunas\n",
    "#novos_nomes = ['Nova_Coluna1', 'Nova_Coluna2', 'Nova_Coluna3', ...]  # Substitua pelos novos nomes desejados\n",
    "\n",
    "# Atribuir os novos nomes de colunas ao DataFrame\n",
    "#dados.columns = novos_nomes"
   ]
  },
  {
   "cell_type": "code",
   "execution_count": null,
   "metadata": {},
   "outputs": [],
   "source": [
    "# Função que cria data frames com base em índices de colunas\n",
    "def cria_df(lista):\n",
    "    return dados[dados.columns[lista[0]:lista[1]]].copy()"
   ]
  },
  {
   "cell_type": "code",
   "execution_count": null,
   "metadata": {},
   "outputs": [],
   "source": [
    "# Função que renomeia as colunas dos data frames (recebe o data frame e a lista com os novos nomes)\n",
    "def renomeia_coluna_df(data_frame, lista_novos_nomes):\n",
    "    lista_novos_nomes = [nome.lower() for nome in lista_novos_nomes]\n",
    "    data_frame.columns = lista_novos_nomes\n",
    "    return data_frame"
   ]
  },
  {
   "cell_type": "code",
   "execution_count": null,
   "metadata": {},
   "outputs": [],
   "source": [
    "# Função retira as linhas nulas\n",
    "def tira_linhas_na(data_frame):\n",
    "    data_frame.dropna(inplace=True)\n",
    "    return data_frame"
   ]
  },
  {
   "cell_type": "code",
   "execution_count": null,
   "metadata": {},
   "outputs": [],
   "source": [
    "#Função cria um gráfico de barras empilhados passando de informação a base e os títulos.\n",
    "#Titulos recebe strings com as informações (título do grafico, título eixo x, título eixo y).\n",
    "\n",
    "def grafico_em_bar_empilhado(data_frame, lista_de_titulos):\n",
    "    frequencia = data_frame.sum()\n",
    "    frequencia_dicionario = {'Opcao': frequencia.index, 'Sim': frequencia.values}\n",
    "    df_frequencia = pd.DataFrame(frequencia_dicionario)\n",
    "    df_frequencia['Não'] = data_frame.shape[0] - df_frequencia['Sim']\n",
    "    df_frequencia.set_index('Opcao', inplace = True)\n",
    "\n",
    "    fig, ax = plt.subplots()\n",
    "\n",
    "    ax.bar(df_frequencia.index, df_frequencia['Sim'], label = \"Sim\", color = '#483D8B')\n",
    "    ax.bar(df_frequencia.index, df_frequencia['Não'], bottom = df_frequencia['Sim'], label = \"Não\", color = '#FFB6C1')\n",
    "\n",
    "    for bar in ax.patches:\n",
    "        ax.text(bar.get_x() + bar.get_width() / 2,\n",
    "                bar.get_height() / 2 + bar.get_y(),\n",
    "                round(bar.get_height()), ha = 'center',\n",
    "                color = 'w', weight = 'bold', size = 10)\n",
    "\n",
    "    plt.title(lista_de_titulos[0])\n",
    "    plt.xlabel(lista_de_titulos[1])\n",
    "    plt.ylabel(lista_de_titulos[2])\n",
    "    plt.xticks(rotation = 45, ha = 'right')\n",
    "\n",
    "    ax.legend(loc = 'upper right')\n",
    "\n",
    "    plt.show()"
   ]
  },
  {
   "cell_type": "markdown",
   "metadata": {},
   "source": [
    "# Descrevendo a Área de Ciências de Dados\n",
    "\n",
    "Para descrever e analisar a área de atuação da Ciência de Dados, foram utilizadas as partes 4 e 8 da base de dados.\n",
    "\n",
    "Ao analisarmos a parte 4 da base, onde se encontravam os conhecimentos na área de dados,\n",
    "identificamos algumas inconsistências e decidimos utilizar apenas as informações da área de atuação dos profissionais.\n",
    "\n",
    "Na parte 8, realizamos uma análise descritiva detalhada da pesquisa, a qual aborda os conhecimentos e práticas relacionados à Ciência de Dados.\n",
    "Inclui quatro perguntas-chave:\n",
    "\n",
    "a) Quais das opções abaixo fazem parte da sua rotina no trabalho atual em ciência de dados?\n",
    "\n",
    "b) Quais técnicas e métodos listados abaixo você costuma utilizar no trabalho?\n",
    "\n",
    "c) Quais tecnologias dentre as listadas fazem parte do seu dia a dia como cientista de dados?\n",
    "\n",
    "d) Entre as opções abaixo, em qual delas você investe a maior parte do seu tempo de trabalho?"
   ]
  },
  {
   "cell_type": "code",
   "execution_count": null,
   "metadata": {},
   "outputs": [],
   "source": [
    "df_P4 = cria_df([89, 91])\n",
    "print(df_P4.columns)"
   ]
  },
  {
   "cell_type": "code",
   "execution_count": null,
   "metadata": {},
   "outputs": [],
   "source": [
    "df_P8 = cria_df([302, 352])\n",
    "print(df_P8.columns)"
   ]
  },
  {
   "cell_type": "code",
   "execution_count": null,
   "metadata": {},
   "outputs": [],
   "source": [
    "# P4 \n",
    "\n",
    "# Criando o dataframe para a análise de atuação\n",
    "novos_nomes_df_P4_a = ['Atuação']\n",
    "df_P4_a = cria_df([90, 91])\n",
    "renomeia_coluna_df(df_P4_a, novos_nomes_df_P4_a)\n",
    "\n",
    "# Vendo quais são as possíveis atuações\n",
    "df_P4_a['atuação'].unique()"
   ]
  },
  {
   "cell_type": "code",
   "execution_count": null,
   "metadata": {},
   "outputs": [],
   "source": [
    "# Criando um data frame com as atuações e a quantidade de pessoas nela\n",
    "numero_cd = df_P4_a[df_P4_a['atuação'] == 'Ciência de Dados'].shape[0]\n",
    "numero_g = df_P4_a[df_P4_a['atuação'] == 'Gestor'].shape[0]\n",
    "numero_ed = df_P4_a[df_P4_a['atuação'] == 'Engenharia de Dados'].shape[0]\n",
    "numero_ad = df_P4_a[df_P4_a['atuação'] == 'Análise de Dados'].shape[0]\n",
    "numero_oa = df_P4_a[df_P4_a['atuação'] == 'Outra atuação'].shape[0]\n",
    "numero_b = df_P4_a[df_P4_a['atuação'] == 'Buscando oportunidade na área de dados'].shape[0]\n",
    "\n",
    "atuacao_dicionario = {\"Ciência de Dados\": [numero_cd], \"Gestor\": [numero_g], \"Engenharia de Dados\": [numero_ed] , \"Análise de Dados\": [numero_ad], \"Outra atuação\": [numero_oa], \"Buscando oportunidade na área de dados\": [numero_b]}\n",
    "\n",
    "df_atuacao = pd.DataFrame(atuacao_dicionario)"
   ]
  },
  {
   "cell_type": "code",
   "execution_count": null,
   "metadata": {},
   "outputs": [],
   "source": [
    "# Plotando um grafico de pizza\n",
    "graf_atuacao = df_atuacao.sum()\n",
    "\n",
    "colormap = plt.cm.get_cmap('Set2', len(graf_atuacao.index))\n",
    "cores = colormap(np.arange(len(graf_atuacao.index)))\n",
    "\n",
    "plt.pie(graf_atuacao.values, labels = graf_atuacao.index, autopct='%1.1f%%', startangle=140, colors = cores)\n",
    "\n",
    "plt.title('Áreas de Atuação em Dados')\n",
    "plt.axis('equal')\n",
    "\n",
    "plt.show()"
   ]
  },
  {
   "cell_type": "code",
   "execution_count": null,
   "metadata": {},
   "outputs": [],
   "source": [
    "# P8\n",
    "\n",
    "# Listas com os índices necessários para a criação de cada data frame\n",
    "indices_P8_a = [303, 314]\n",
    "indices_P8_b = [315, 328]\n",
    "indices_P8_c = [329, 340]\n",
    "indices_P8_d = [341, 352]"
   ]
  },
  {
   "cell_type": "code",
   "execution_count": null,
   "metadata": {},
   "outputs": [],
   "source": [
    "# Criando os data frames\n",
    "df_P8_a = cria_df(indices_P8_a)\n",
    "df_P8_b = cria_df(indices_P8_b)\n",
    "df_P8_c = cria_df(indices_P8_c)\n",
    "df_P8_d = cria_df(indices_P8_d)"
   ]
  },
  {
   "cell_type": "code",
   "execution_count": null,
   "metadata": {},
   "outputs": [],
   "source": [
    "# Listas para renomeação de colunas\n",
    "novos_nomes_df_P8_a = [\"Ad-hoc\", \"Coleta e Limpeza\", \"Contato Times\", \"Modelos Machine Learning\", \"Criar Pipelines\", \"Manutenção Machine Learning\", \"Construções Dashboards\", \"Ferramentas Avançadas Estatística\", \"Manutenção em ETLs\", \"Crio e gerencio Feature Store\", \"Criar e manter a infra modelos\"]\n",
    "novos_nomes_df_P8_b = [\"Regressão Linear\", \"Redes Neurais ou Modelos Baseados em Árvore\", \"RecSys\", \"Métodos Bayesianos\", \"NLP\", \"Métodos Clássicos\", \"Cadeias de Markov ou HMM\\'s\", \"Clusterização\", \"Séries Temporais\", \"Reinforcement Learning\", \"ML para Detecção de Fraude\", \"Visão Computacional\", \"Detecção de Churn\"]\n",
    "novos_nomes_df_P8_c = [\"Ferramentas de BI\", \"Planilhas\", \"Desenvolvimento Local\", \"Desenvolvimento na Nuvem\", \"AutoML\", \"ETL\", \"Machine Learning\", \"Feature Store\", \"Controle de Versão\", \"Data Apps\", \"Estatística Avançada\"]\n",
    "novos_nomes_df_P8_d = [\"Ad-hoc\", \"Coleta e Limpeza\", \"Contato Times\", \"Modelos Machine Learning\", \"Criar Pipelines\", \"Manutenção Machine Learning\", \"Construções Dashboards\", \"Ferramentas Avançadas Estatística\", \"Manutenção em ETLs\", \"Crio e gerencio Feature Store\", \"Criar e manter a infra modelos\"]"
   ]
  },
  {
   "cell_type": "code",
   "execution_count": null,
   "metadata": {},
   "outputs": [],
   "source": [
    "# Renomeando colunas dos data frames\n",
    "df_P8_a = renomeia_coluna_df(df_P8_a, novos_nomes_df_P8_a)\n",
    "df_P8_b = renomeia_coluna_df(df_P8_b, novos_nomes_df_P8_b)\n",
    "df_P8_c = renomeia_coluna_df(df_P8_c, novos_nomes_df_P8_c)\n",
    "df_P8_d = renomeia_coluna_df(df_P8_d, novos_nomes_df_P8_d)"
   ]
  },
  {
   "cell_type": "code",
   "execution_count": null,
   "metadata": {},
   "outputs": [],
   "source": [
    "print(df_P8.describe())\n",
    "\n",
    "'''\n",
    "As respostas para as perguntas são dadas nas colunas subsequentes às perguntas, de forma binária.\n",
    "Apenas aqueles que pertencem à área de Ciência de Dados responderam as perguntas desta seção que ao total foram 629 respostas.\n",
    "Isso resultou em muitas linhas da base de dados com informações nulas em todas as colunas.\n",
    "Não foi necessário realizar correções para valores fora do esperado.\n",
    "'''"
   ]
  },
  {
   "cell_type": "code",
   "execution_count": null,
   "metadata": {},
   "outputs": [],
   "source": [
    "# Tirando as linhas com NaN da parte 8\n",
    "df_P8_a = tira_linhas_na(df_P8_a)\n",
    "df_P8_b = tira_linhas_na(df_P8_b)\n",
    "df_P8_c = tira_linhas_na(df_P8_c)\n",
    "df_P8_d = tira_linhas_na(df_P8_d)"
   ]
  },
  {
   "cell_type": "code",
   "execution_count": null,
   "metadata": {},
   "outputs": [],
   "source": [
    "#Após o tratamento das informações, decidimos apresentar uma visualização mais clara e quantitativa das respostas utilizando um gráfico de barras empilhadas.\n",
    "\n",
    "# Listas dos títulos para os gráficos da parte 8\n",
    "titulos_df_P8_a = [\"A - Quais das opções abaixo fazem parte da sua rotina no trabalho atual com ciência de dados?\", \"Trabalhos Executados\", \"Quantidade de Pessoas\"]\n",
    "titulos_df_P8_b = [\"B - Quais as técnicas e métodos listados abaixo você costuma utilizar no trabalho?\", \"Técnicas e Métodos\", \"Quantidade de Pessoas\"]\n",
    "titulos_df_P8_c = [\"C - Quais dessas tecnologias fazem parte do seu dia a dia como cientista de dados?\", \"Tecnologias\", \"Quantidade de Pessoas\"]\n",
    "titulos_df_P8_d = [\"D - Em qual das opções abaixo você gasta a maior parte do seu tempo no trabalho?\", \"Trabalhos Executados\", \"Quantidade de Pessoas\"]"
   ]
  },
  {
   "cell_type": "code",
   "execution_count": null,
   "metadata": {},
   "outputs": [],
   "source": [
    "grafico_em_bar_empilhado(df_P8_a, titulos_df_P8_a)\n",
    "grafico_em_bar_empilhado(df_P8_b, titulos_df_P8_b)\n",
    "grafico_em_bar_empilhado(df_P8_c, titulos_df_P8_c)\n",
    "grafico_em_bar_empilhado(df_P8_d, titulos_df_P8_d)"
   ]
  }
 ],
 "metadata": {
  "kernelspec": {
   "display_name": "base",
   "language": "python",
   "name": "python3"
  },
  "language_info": {
   "name": "python",
   "version": "3.10.9"
  },
  "orig_nbformat": 4
 },
 "nbformat": 4,
 "nbformat_minor": 2
}
